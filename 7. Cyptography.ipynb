{
 "cells": [
  {
   "cell_type": "markdown",
   "id": "44e91623",
   "metadata": {},
   "source": [
    "### Cryptography\n",
    "\n",
    "\n",
    "\n",
    "\n",
    "Hi there! \n",
    "\n",
    "There are five text message below. I've also convieniently pasted the alphabet for you, which we'll need to crack the code.\n",
    "\n",
    "The length of each message represents the letter in the alphabet for each character in the password. "
   ]
  },
  {
   "cell_type": "code",
   "execution_count": 24,
   "id": "dd1db50e",
   "metadata": {},
   "outputs": [],
   "source": [
    "alphabet = 'abcdefghijklmnopqrstuvwxyz'\n",
    "message1 = 'Hello World!'\n",
    "message2 = ''\n",
    "message3 = 'It snowed a lot today'\n",
    "message4 = 'eeee'\n",
    "message5 = 'I love snow!!'"
   ]
  },
  {
   "cell_type": "markdown",
   "id": "7aa64328",
   "metadata": {},
   "source": [
    "### Crack the Code\n",
    "\n",
    "In the cell below, combine the characters retrieved using the length function into a single string, and assign that to `password`. Then print the password."
   ]
  },
  {
   "cell_type": "code",
   "execution_count": 29,
   "id": "cd36a182",
   "metadata": {},
   "outputs": [
    {
     "data": {
      "text/plain": [
       "'maven'"
      ]
     },
     "execution_count": 29,
     "metadata": {},
     "output_type": "execute_result"
    }
   ],
   "source": [
    "password = alphabet[12] + alphabet[0] + alphabet[21] + alphabet[4] + alphabet[13]\n",
    "\n",
    "password"
   ]
  },
  {
   "cell_type": "code",
   "execution_count": 27,
   "id": "dcca358e",
   "metadata": {},
   "outputs": [
    {
     "name": "stdout",
     "output_type": "stream",
     "text": [
      "message1: 12\n",
      "message2: 0\n",
      "message3: 21\n",
      "message4: 4\n",
      "message5: 13\n"
     ]
    }
   ],
   "source": [
    "# Get the length of message 1\n",
    "message1_length = len(message1)\n",
    "\n",
    "# Get the length of message 2\n",
    "message2_length = len(message2)\n",
    "\n",
    "# Get the length of message 3\n",
    "message3_length = len(message3)\n",
    "\n",
    "# Get the length of message 4\n",
    "message4_length = len(message4)\n",
    "\n",
    "5# Get the length of message 5\n",
    "message5_length = len(message5)\n",
    "\n",
    "# Display the results\n",
    "print(\"message1: \" + str(message1_length))\n",
    "print(\"message2: \" + str(message2_length))\n",
    "print(\"message3: \" + str(message3_length))\n",
    "print(\"message4: \" + str(message4_length))\n",
    "print(\"message5: \" + str(message5_length))"
   ]
  }
 ],
 "metadata": {
  "kernelspec": {
   "display_name": "Python [conda env:base] *",
   "language": "python",
   "name": "conda-base-py"
  },
  "language_info": {
   "codemirror_mode": {
    "name": "ipython",
    "version": 3
   },
   "file_extension": ".py",
   "mimetype": "text/x-python",
   "name": "python",
   "nbconvert_exporter": "python",
   "pygments_lexer": "ipython3",
   "version": "3.12.7"
  }
 },
 "nbformat": 4,
 "nbformat_minor": 5
}
