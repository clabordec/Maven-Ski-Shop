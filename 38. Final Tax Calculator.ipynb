{
 "cells": [
  {
   "cell_type": "markdown",
   "id": "15a7a09a",
   "metadata": {},
   "source": [
    "### Transaction Dictionary Creator\n",
    "\n",
    "Hi there, we need to make some final updates to our tax calculator function.\n",
    "\n",
    "We need a function takes a list of customer_ids, a list of subtotals, and a tax rate, that calls the tax_calculator on a list of subtotals, then returns a dictionary with customer_IDs as keys, and the lists returned from tax_calculator as the values.\n",
    "\n",
    "A dictionary comprehension would be very helpful here.\n",
    "\n",
    "Your function will need the following arguments:\n",
    "\n",
    "* customer_ids - a list of strings\n",
    "* subtotals - a list of numbers\n",
    "* tax_rate - the tax rate which will be passed to tax_calculator\n",
    "\n",
    "The output will be a dictionary with:\n",
    "\n",
    "* Customer IDs as keys\n",
    "* [subtotal, tax, total] as values\n",
    "\n"
   ]
  },
  {
   "cell_type": "code",
   "execution_count": 10,
   "id": "cd849cc8",
   "metadata": {},
   "outputs": [],
   "source": [
    "from tax_calculator import tax_calculator\n",
    "\n",
    "customer_ids = ['C00004', 'C00007', 'C00015', 'C00016', 'C00020', 'C00010']\n",
    "\n",
    "subtotals = [15.98, 899.97, 799.97, 117.96, 5.99, 599.99]"
   ]
  },
  {
   "cell_type": "code",
   "execution_count": 21,
   "id": "0b087eb8",
   "metadata": {},
   "outputs": [],
   "source": [
    "def transaction_dict_creator(customer_ids, subtotals, tax_rate):\n",
    "    customer_dict = {\n",
    "                     customer_ids: tax_calculator(subtotal, tax_rate)\n",
    "                     for customer_ids, subtotal in zip(customer_ids, subtotals)\n",
    "                    }\n",
    "    return customer_dict"
   ]
  },
  {
   "cell_type": "code",
   "execution_count": 23,
   "id": "4a60eb45-2655-4524-bce8-598949083f55",
   "metadata": {},
   "outputs": [
    {
     "data": {
      "text/plain": [
       "{'C00004': [15.98, 1.28, 17.26],\n",
       " 'C00007': [899.97, 72.0, 971.97],\n",
       " 'C00015': [799.97, 64.0, 863.97],\n",
       " 'C00016': [117.96, 9.44, 127.4],\n",
       " 'C00020': [5.99, 0.48, 6.47],\n",
       " 'C00010': [599.99, 48.0, 647.99]}"
      ]
     },
     "execution_count": 23,
     "metadata": {},
     "output_type": "execute_result"
    }
   ],
   "source": [
    "transaction_dict_creator(customer_ids, subtotals, 0.08)"
   ]
  }
 ],
 "metadata": {
  "kernelspec": {
   "display_name": "Python [conda env:base] *",
   "language": "python",
   "name": "conda-base-py"
  },
  "language_info": {
   "codemirror_mode": {
    "name": "ipython",
    "version": 3
   },
   "file_extension": ".py",
   "mimetype": "text/x-python",
   "name": "python",
   "nbconvert_exporter": "python",
   "pygments_lexer": "ipython3",
   "version": "3.12.7"
  }
 },
 "nbformat": 4,
 "nbformat_minor": 5
}
