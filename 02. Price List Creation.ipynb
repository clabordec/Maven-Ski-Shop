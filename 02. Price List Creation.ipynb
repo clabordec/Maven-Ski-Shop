{
 "cells": [
  {
   "cell_type": "markdown",
   "id": "b3bf5325-88a4-40bc-8259-d55f5a0171e8",
   "metadata": {},
   "source": [
    "# Price List Creation"
   ]
  },
  {
   "cell_type": "markdown",
   "id": "4bbb99bf-4a7f-469b-84bc-aacfca07349f",
   "metadata": {},
   "source": [
    "### Create a 2018 price list with the following prices\n",
    "\n",
    "- 4.99\n",
    "- 8.99\n",
    "- 17.99\n",
    "- 22.99\n",
    "- 94.99"
   ]
  },
  {
   "cell_type": "code",
   "execution_count": 3,
   "id": "5bcea657-54a2-4b04-9ed7-28375d3a7d68",
   "metadata": {},
   "outputs": [],
   "source": [
    "price_list_2018 = [4.99, 8.99, 17.99, 22.99, 94.99]"
   ]
  },
  {
   "cell_type": "code",
   "execution_count": 4,
   "id": "3fc2a7bd-b7c1-48a1-a068-02337b7e9b62",
   "metadata": {},
   "outputs": [
    {
     "data": {
      "text/plain": [
       "[4.99, 8.99, 17.99, 22.99, 94.99]"
      ]
     },
     "execution_count": 4,
     "metadata": {},
     "output_type": "execute_result"
    }
   ],
   "source": [
    "price_list_2018"
   ]
  },
  {
   "cell_type": "markdown",
   "id": "d4144f32-c58a-4bf4-a4cb-dd166586ddaf",
   "metadata": {},
   "source": [
    "### Create a 2019 price list with the following prices\n",
    "\n",
    "- 5.99\n",
    "- 9.98\n",
    "- 19.99\n",
    "- 24.99\n",
    "- 94.99"
   ]
  },
  {
   "cell_type": "code",
   "execution_count": 6,
   "id": "e6a6afba-69d6-4a34-a7bd-fb494730c149",
   "metadata": {},
   "outputs": [],
   "source": [
    "price_list_2019 = [5.99, 9.98, 19.99, 24.99, 94.99]"
   ]
  },
  {
   "cell_type": "code",
   "execution_count": 7,
   "id": "6772fd1b-7049-407b-9dfb-9aa0ca891451",
   "metadata": {},
   "outputs": [
    {
     "data": {
      "text/plain": [
       "[5.99, 9.98, 19.99, 24.99, 94.99]"
      ]
     },
     "execution_count": 7,
     "metadata": {},
     "output_type": "execute_result"
    }
   ],
   "source": [
    "price_list_2019"
   ]
  },
  {
   "cell_type": "markdown",
   "id": "7fec8e1e-41a2-4f8c-993e-72a6dc4aec7a",
   "metadata": {},
   "source": [
    "### Create a 2020 price list with the following prices\n",
    "\n",
    "- 6.49\n",
    "- 10.49\n",
    "- 19.99\n",
    "- 26.99\n",
    "- 104.99"
   ]
  },
  {
   "cell_type": "code",
   "execution_count": 9,
   "id": "0f9664fb-4fbf-4e82-aa6f-ba1cfc76899e",
   "metadata": {},
   "outputs": [],
   "source": [
    "price_list_2020 = [6.49, 10.49, 19.99, 26.99, 104.99]"
   ]
  },
  {
   "cell_type": "code",
   "execution_count": 10,
   "id": "5fcd7386-c2a2-4dc6-910f-d65641e69ebd",
   "metadata": {},
   "outputs": [
    {
     "data": {
      "text/plain": [
       "[6.49, 10.49, 19.99, 26.99, 104.99]"
      ]
     },
     "execution_count": 10,
     "metadata": {},
     "output_type": "execute_result"
    }
   ],
   "source": [
    "price_list_2020"
   ]
  },
  {
   "cell_type": "markdown",
   "id": "d10649b2-0ed3-4ee2-a990-c74fe84e9837",
   "metadata": {},
   "source": [
    "### Show the values and data types for each variable"
   ]
  },
  {
   "cell_type": "code",
   "execution_count": 11,
   "id": "3c11755e-aba4-40e9-82c4-52b568c676f6",
   "metadata": {},
   "outputs": [
    {
     "name": "stdout",
     "output_type": "stream",
     "text": [
      "Variable               Type        Data/Info\n",
      "--------------------------------------------\n",
      "dataframe_columns      function    <function dataframe_colum<...>ns at 0x0000028D321AC9A0>\n",
      "dataframe_hash         function    <function dataframe_hash at 0x0000028D321AC540>\n",
      "dtypes_str             function    <function dtypes_str at 0x0000028D321AC680>\n",
      "get_dataframes         function    <function get_dataframes at 0x0000028D321AD9E0>\n",
      "getpass                module      <module 'getpass' from 'C<...>conda3\\\\Lib\\\\getpass.py'>\n",
      "hashlib                module      <module 'hashlib' from 'C<...>conda3\\\\Lib\\\\hashlib.py'>\n",
      "import_pandas_safely   function    <function import_pandas_s<...>ly at 0x0000028D321ADD00>\n",
      "is_data_frame          function    <function is_data_frame at 0x0000028D321AD440>\n",
      "json                   module      <module 'json' from 'C:\\\\<...>\\Lib\\\\json\\\\__init__.py'>\n",
      "price_list_2018        list        n=5\n",
      "price_list_2019        list        n=5\n",
      "price_list_2020        list        n=5\n"
     ]
    }
   ],
   "source": [
    "%whos"
   ]
  }
 ],
 "metadata": {
  "kernelspec": {
   "display_name": "Python [conda env:base] *",
   "language": "python",
   "name": "conda-base-py"
  },
  "language_info": {
   "codemirror_mode": {
    "name": "ipython",
    "version": 3
   },
   "file_extension": ".py",
   "mimetype": "text/x-python",
   "name": "python",
   "nbconvert_exporter": "python",
   "pygments_lexer": "ipython3",
   "version": "3.12.7"
  }
 },
 "nbformat": 4,
 "nbformat_minor": 5
}
