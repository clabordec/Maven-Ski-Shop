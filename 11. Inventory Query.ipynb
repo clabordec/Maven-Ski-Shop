{
 "cells": [
  {
   "cell_type": "markdown",
   "id": "c6a1d267",
   "metadata": {},
   "source": [
    "### Inventory Message\n",
    "\n",
    "Let's add and out of stock flag to our products. \n",
    " \n",
    "* If inventory is negative or 0, print 'OUT OF STOCK'. \n",
    "* If inventory is greater than 0, and less than or equal to 5, print 'Low Stock'. \n",
    "* If inventory is anything else, print 'In Stock'"
   ]
  },
  {
   "cell_type": "code",
   "execution_count": 11,
   "id": "c8ff8eb8",
   "metadata": {},
   "outputs": [
    {
     "name": "stdout",
     "output_type": "stream",
     "text": [
      "Low Stock\n"
     ]
    }
   ],
   "source": [
    "inventory = 3\n",
    "\n",
    "if inventory < 0:\n",
    "    print('OUT OF STOCK')\n",
    "elif inventory > 0 and inventory < 5:\n",
    "    print('Low Stock')\n",
    "else:\n",
    "    print('In Stock')"
   ]
  }
 ],
 "metadata": {
  "kernelspec": {
   "display_name": "Python [conda env:base] *",
   "language": "python",
   "name": "conda-base-py"
  },
  "language_info": {
   "codemirror_mode": {
    "name": "ipython",
    "version": 3
   },
   "file_extension": ".py",
   "mimetype": "text/x-python",
   "name": "python",
   "nbconvert_exporter": "python",
   "pygments_lexer": "ipython3",
   "version": "3.12.7"
  }
 },
 "nbformat": 4,
 "nbformat_minor": 5
}
