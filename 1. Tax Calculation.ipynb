{
 "cells": [
  {
   "cell_type": "markdown",
   "id": "29a18f2c-7f5f-4070-bcd7-f2de881b4910",
   "metadata": {},
   "source": [
    "# Tax Calculation"
   ]
  },
  {
   "cell_type": "markdown",
   "id": "7263bec2-0e52-458a-91d0-c954c0135e47",
   "metadata": {},
   "source": [
    "### Create a `price` variable and assing it a value of 5"
   ]
  },
  {
   "cell_type": "code",
   "execution_count": 1,
   "id": "79008367-aca5-4d57-9c31-59703f476fe9",
   "metadata": {},
   "outputs": [],
   "source": [
    "price = 5"
   ]
  },
  {
   "cell_type": "markdown",
   "id": "ad43828c-69fb-42ab-93a5-55137abffea3",
   "metadata": {},
   "source": [
    "### Create a `tax` variable and assign it a value of 2"
   ]
  },
  {
   "cell_type": "code",
   "execution_count": 3,
   "id": "1c2a9925-347f-4ddf-b0c4-b199adcbe925",
   "metadata": {},
   "outputs": [],
   "source": [
    "tax = 2"
   ]
  },
  {
   "cell_type": "markdown",
   "id": "8d728350-d8ac-457e-a1b7-69f20224784f",
   "metadata": {},
   "source": [
    "### Create a `total` variable equal to `price` + `tax`"
   ]
  },
  {
   "cell_type": "code",
   "execution_count": 5,
   "id": "7c3a0956-d9cb-40c5-a57b-80ce9c2923b2",
   "metadata": {},
   "outputs": [],
   "source": [
    "total = price + tax"
   ]
  },
  {
   "cell_type": "markdown",
   "id": "616e483f-64a0-4a42-9eb7-762dc072a645",
   "metadata": {},
   "source": [
    "### Print the final output"
   ]
  },
  {
   "cell_type": "code",
   "execution_count": 7,
   "id": "3a19e9b9-dd29-46e3-a86d-9a2955353cd0",
   "metadata": {},
   "outputs": [
    {
     "data": {
      "text/plain": [
       "7"
      ]
     },
     "execution_count": 7,
     "metadata": {},
     "output_type": "execute_result"
    }
   ],
   "source": [
    "total"
   ]
  }
 ],
 "metadata": {
  "kernelspec": {
   "display_name": "Python [conda env:base] *",
   "language": "python",
   "name": "conda-base-py"
  },
  "language_info": {
   "codemirror_mode": {
    "name": "ipython",
    "version": 3
   },
   "file_extension": ".py",
   "mimetype": "text/x-python",
   "name": "python",
   "nbconvert_exporter": "python",
   "pygments_lexer": "ipython3",
   "version": "3.12.7"
  }
 },
 "nbformat": 4,
 "nbformat_minor": 5
}
