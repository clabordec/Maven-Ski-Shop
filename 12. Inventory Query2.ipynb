{
 "cells": [
  {
   "cell_type": "markdown",
   "id": "d5926f42",
   "metadata": {},
   "source": [
    "### Inventory Message - VIP Request\n",
    "\n",
    "Hi there, modify the previous inventory logic to handle a special customer.\n",
    "\n",
    "* Print 'Out of Stock' if the inventory is less than or equal to zero, unless our customer's name is Chris.\n",
    "\n",
    "    * If inventory is less than or equal to zero, we can give our customer named Chris the display model. \n",
    "\n",
    "\n",
    "\n",
    "* Modify the logic below to print the following message if the new logic is met:\n",
    "\n",
    "    * 'You can have the display model, sir'\n",
    "\n",
    "\n",
    "I've pasted the current inventory logic and some test values below. Make sure to test a few different values for each variable."
   ]
  },
  {
   "cell_type": "code",
   "execution_count": 2,
   "id": "2338410c",
   "metadata": {},
   "outputs": [
    {
     "name": "stdout",
     "output_type": "stream",
     "text": [
      "Out of Stock\n"
     ]
    }
   ],
   "source": [
    "inventory = 0\n",
    "customer_name = 'Chris'\n",
    "\n",
    "if inventory <= 0:\n",
    "    print('Out of Stock')\n",
    "elif inventory <= 5:\n",
    "    print('Low Stock')\n",
    "else:\n",
    "    print('In Stock')\n"
   ]
  },
  {
   "cell_type": "markdown",
   "id": "80996f6d",
   "metadata": {},
   "source": [
    "### With Nested Logic\n"
   ]
  },
  {
   "cell_type": "code",
   "execution_count": 34,
   "id": "8b0c0ae8",
   "metadata": {},
   "outputs": [
    {
     "name": "stdout",
     "output_type": "stream",
     "text": [
      "You have the display model, sir\n"
     ]
    }
   ],
   "source": [
    "inventory = 0\n",
    "customer_name = 'Chris'\n",
    "\n",
    "if inventory <= 0:\n",
    "    if customer_name == 'Chris':\n",
    "        print('You have the display model, sir')\n",
    "    else:\n",
    "        print('Out of Stock')\n",
    "elif inventory <= 5:\n",
    "    print('Low Stock')\n",
    "else:\n",
    "    print('In Stock')"
   ]
  },
  {
   "cell_type": "markdown",
   "id": "f99e1794",
   "metadata": {},
   "source": [
    "### Without Nested Logic"
   ]
  },
  {
   "cell_type": "code",
   "execution_count": 59,
   "id": "113df8bb",
   "metadata": {},
   "outputs": [
    {
     "name": "stdout",
     "output_type": "stream",
     "text": [
      "Low Stock\n"
     ]
    }
   ],
   "source": [
    "inventory = 1\n",
    "customer_name = 'Chris'\n",
    "\n",
    "if inventory <= 0 and customer_name == 'Chris':\n",
    "    print('You have the display model, sir')\n",
    "elif inventory <= 0:\n",
    "    print('Out of Stock')\n",
    "elif inventory <= 5:\n",
    "    print('Low Stock')\n",
    "else:\n",
    "    print('In Stock')"
   ]
  },
  {
   "cell_type": "code",
   "execution_count": null,
   "id": "f3f2301b-1ac2-43dc-b9a2-58d88980a03c",
   "metadata": {},
   "outputs": [],
   "source": []
  },
  {
   "cell_type": "code",
   "execution_count": null,
   "id": "e128dae1-0ad7-4e36-a22a-6ac9a2d7bb15",
   "metadata": {},
   "outputs": [],
   "source": []
  },
  {
   "cell_type": "code",
   "execution_count": null,
   "id": "edb7adce-eeb0-4b8f-83af-6986ab8b4dd0",
   "metadata": {},
   "outputs": [],
   "source": []
  }
 ],
 "metadata": {
  "kernelspec": {
   "display_name": "Python [conda env:base] *",
   "language": "python",
   "name": "conda-base-py"
  },
  "language_info": {
   "codemirror_mode": {
    "name": "ipython",
    "version": 3
   },
   "file_extension": ".py",
   "mimetype": "text/x-python",
   "name": "python",
   "nbconvert_exporter": "python",
   "pygments_lexer": "ipython3",
   "version": "3.12.7"
  }
 },
 "nbformat": 4,
 "nbformat_minor": 5
}
