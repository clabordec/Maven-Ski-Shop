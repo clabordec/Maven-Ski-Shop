{
 "cells": [
  {
   "cell_type": "markdown",
   "id": "64ecc688",
   "metadata": {},
   "source": [
    "### Password Retrieval\n",
    "\n",
    "* Spell the word 'Maven' by grabbing one letter from each text message"
   ]
  },
  {
   "cell_type": "code",
   "execution_count": 1,
   "id": "b5f889bd",
   "metadata": {},
   "outputs": [],
   "source": [
    "text1 = '          Your friend Mark'\n",
    "text2 = 'was'\n",
    "text3 = 'having'\n",
    "text4 = 'a great day'\n",
    "text5 = 'on the mountain'"
   ]
  },
  {
   "cell_type": "code",
   "execution_count": 3,
   "id": "4854f6a6",
   "metadata": {},
   "outputs": [
    {
     "name": "stdout",
     "output_type": "stream",
     "text": [
      "The secret password is Maven\n"
     ]
    }
   ],
   "source": [
    "# Combine the letters in to a word and assign to the variable 'Maven'\n",
    "maven = text1[-4] + text2[1] + text3[2] + text4[4] + text5[-1]\n",
    "\n",
    "print('The secret password is ' + maven)"
   ]
  }
 ],
 "metadata": {
  "kernelspec": {
   "display_name": "Python [conda env:base] *",
   "language": "python",
   "name": "conda-base-py"
  },
  "language_info": {
   "codemirror_mode": {
    "name": "ipython",
    "version": 3
   },
   "file_extension": ".py",
   "mimetype": "text/x-python",
   "name": "python",
   "nbconvert_exporter": "python",
   "pygments_lexer": "ipython3",
   "version": "3.12.7"
  }
 },
 "nbformat": 4,
 "nbformat_minor": 5
}
