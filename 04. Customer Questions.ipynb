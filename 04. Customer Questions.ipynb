{
 "cells": [
  {
   "cell_type": "markdown",
   "id": "302f56b8",
   "metadata": {},
   "source": [
    "###  What are the highest and lowest priced items we sell?\n",
    "\n",
    "Based on the list of prices below. Use Python to determine this."
   ]
  },
  {
   "cell_type": "code",
   "execution_count": 9,
   "id": "5c6e2489",
   "metadata": {},
   "outputs": [
    {
     "name": "stdout",
     "output_type": "stream",
     "text": [
      "49.99 129.99\n"
     ]
    }
   ],
   "source": [
    "price_list = [129.99, 99.99, 119.19, 99.99, 89.99, 79.99, 49.99]\n",
    "\n",
    "# Get the highest price in the following list\n",
    "highest_price = max(price_list)\n",
    "\n",
    "# Get the lowest price in the following list\n",
    "lowest_price = min(price_list)\n",
    "\n",
    "# Display the results\n",
    "print(lowest_price, highest_price)"
   ]
  },
  {
   "cell_type": "markdown",
   "id": "08a76ff6",
   "metadata": {},
   "source": [
    "How much would it cost for a customer to purchase two of every item in the price list?"
   ]
  },
  {
   "cell_type": "code",
   "execution_count": 21,
   "id": "d41b2963",
   "metadata": {},
   "outputs": [
    {
     "data": {
      "text/plain": [
       "1338"
      ]
     },
     "execution_count": 21,
     "metadata": {},
     "output_type": "execute_result"
    }
   ],
   "source": [
    "# Set a variable for the total amount of items\n",
    "cost_of_items = sum(price_list)\n",
    "\n",
    "# Set a variable for the number of items that the customer will purchase\n",
    "number_of_item = 2\n",
    "\n",
    "# Get the total purchase of when a customer purchases two of every item\n",
    "total_purchase = cost_of_items * number_of_item\n",
    "\n",
    "# Round the purchase to the nearest dollar\n",
    "total_purchase_nearest_dollar = round(total_purchase)\n",
    "\n",
    "# Display the result\n",
    "total_purchase_nearest_dollar"
   ]
  }
 ],
 "metadata": {
  "kernelspec": {
   "display_name": "Python [conda env:base] *",
   "language": "python",
   "name": "conda-base-py"
  },
  "language_info": {
   "codemirror_mode": {
    "name": "ipython",
    "version": 3
   },
   "file_extension": ".py",
   "mimetype": "text/x-python",
   "name": "python",
   "nbconvert_exporter": "python",
   "pygments_lexer": "ipython3",
   "version": "3.12.7"
  }
 },
 "nbformat": 4,
 "nbformat_minor": 5
}
