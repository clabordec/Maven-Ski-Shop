{
 "cells": [
  {
   "cell_type": "markdown",
   "id": "489b9d5b",
   "metadata": {},
   "source": [
    "### Modified Tax Calculator\n",
    "\n",
    "Since the tax calculator we made was primarily for our Stowe employees, let's modify the tax calculator below to have a default tax rate of 6%. \n",
    "\n",
    "Also, we want the output of the function to return a list containing the subtotal, tax, and totals."
   ]
  },
  {
   "cell_type": "code",
   "execution_count": 39,
   "id": "4105f94b",
   "metadata": {},
   "outputs": [
    {
     "name": "stdout",
     "output_type": "stream",
     "text": [
      "Overwriting tax_calculator.py\n"
     ]
    }
   ],
   "source": [
    "%%writefile tax_calculator.py\n",
    "\n",
    "def tax_calculator(subtotal, tax_rate = .06):\n",
    "    \"\"\" The following function returns the subtotal, tax and sales specified within the Argument\n",
    "\n",
    "        Args:\n",
    "            subtotal(float): cost of items in transaction\n",
    "            tax_rate(float, optional): The default tax rate is 0.06 for Stowe employees\n",
    "\n",
    "        Returns:\n",
    "            list: list containing subtotal, tax and total\n",
    "    \"\"\"\n",
    "    tax = round(subtotal * tax_rate, 2)\n",
    "    total = round(subtotal + tax, 2)\n",
    "    return [subtotal, round(tax, 2), round(total, 2)]"
   ]
  },
  {
   "cell_type": "code",
   "execution_count": 35,
   "id": "2784deb1",
   "metadata": {},
   "outputs": [
    {
     "data": {
      "text/plain": [
       "[100, 10.0, 110.0]"
      ]
     },
     "execution_count": 35,
     "metadata": {},
     "output_type": "execute_result"
    }
   ],
   "source": [
    "tax_calculator(100, .1)"
   ]
  }
 ],
 "metadata": {
  "kernelspec": {
   "display_name": "Python [conda env:base] *",
   "language": "python",
   "name": "conda-base-py"
  },
  "language_info": {
   "codemirror_mode": {
    "name": "ipython",
    "version": 3
   },
   "file_extension": ".py",
   "mimetype": "text/x-python",
   "name": "python",
   "nbconvert_exporter": "python",
   "pygments_lexer": "ipython3",
   "version": "3.12.7"
  }
 },
 "nbformat": 4,
 "nbformat_minor": 5
}
