{
 "cells": [
  {
   "cell_type": "markdown",
   "id": "baacb0f7",
   "metadata": {},
   "source": [
    "### Sales Tax\n",
    "\n",
    "We need to calculate the sales taxes for our customer that made three transactions in `multi_order_customers` below.\n",
    "\n",
    "(The customer that made three transactions was customer C00001). Run this cell to create the list."
   ]
  },
  {
   "cell_type": "code",
   "execution_count": 1,
   "id": "917a7e1f",
   "metadata": {},
   "outputs": [],
   "source": [
    "multi_order_customers = [\n",
    "    [1799.94, 29.98, 99.99],\n",
    "    [15.98, 119.99],\n",
    "    [24.99, 24.99],\n",
    "    [649.99, 99.99],\n",
    "    [599.99, 399.97]\n",
    "]"
   ]
  },
  {
   "cell_type": "markdown",
   "id": "24d3b042",
   "metadata": {},
   "source": [
    "Create a tuple from the first element in the `multi_order_customers`.\n",
    "\n",
    "Unpack this tuple into the variables `transaction1`, `transaction2`, and `transaction3`.\n",
    "\n",
    "Once you've have separated the transactions, calculate the tax of .08 rounded to 2 decimals and print it."
   ]
  },
  {
   "cell_type": "code",
   "execution_count": 17,
   "id": "6efdb0cf-3395-45f2-b097-109e3b908f18",
   "metadata": {},
   "outputs": [
    {
     "data": {
      "text/plain": [
       "(1799.94, 29.98, 99.99)"
      ]
     },
     "execution_count": 17,
     "metadata": {},
     "output_type": "execute_result"
    }
   ],
   "source": [
    "tuple(multi_order_customers[0])"
   ]
  },
  {
   "cell_type": "code",
   "execution_count": 23,
   "id": "5d429089",
   "metadata": {},
   "outputs": [],
   "source": [
    "transaction1, transaction2, transaction3 = tuple(multi_order_customers[0])"
   ]
  },
  {
   "cell_type": "code",
   "execution_count": 37,
   "id": "eb13d6d0-5c35-4613-8469-8980f6bf09e9",
   "metadata": {},
   "outputs": [
    {
     "name": "stdout",
     "output_type": "stream",
     "text": [
      "144.0\n",
      "2.4\n",
      "8.0\n"
     ]
    }
   ],
   "source": [
    "print(round(transaction1 * .08, 2))\n",
    "print(round(transaction2 * .08, 2))\n",
    "print(round(transaction3 * .08, 2))"
   ]
  }
 ],
 "metadata": {
  "kernelspec": {
   "display_name": "Python [conda env:base] *",
   "language": "python",
   "name": "conda-base-py"
  },
  "language_info": {
   "codemirror_mode": {
    "name": "ipython",
    "version": 3
   },
   "file_extension": ".py",
   "mimetype": "text/x-python",
   "name": "python",
   "nbconvert_exporter": "python",
   "pygments_lexer": "ipython3",
   "version": "3.12.7"
  }
 },
 "nbformat": 4,
 "nbformat_minor": 5
}
