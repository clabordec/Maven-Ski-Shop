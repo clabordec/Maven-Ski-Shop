{
 "cells": [
  {
   "cell_type": "markdown",
   "id": "260aa780",
   "metadata": {},
   "source": [
    "#### Tax Calculator\n",
    "\n",
    "Write a function that takes a subtotal and a tax rate and returns the total invoice amount.\n",
    "\n",
    "* Tax is equal to subtotal multiplied by the tax rate.\n",
    "* The total is equal to subtotal plus tax."
   ]
  },
  {
   "cell_type": "code",
   "execution_count": 16,
   "id": "6ddc3a19",
   "metadata": {},
   "outputs": [],
   "source": [
    "def tax_calculator(subtotal, tax_rate):\n",
    "    tax = subtotal * tax_rate\n",
    "    total = subtotal + tax\n",
    "    return total"
   ]
  },
  {
   "cell_type": "code",
   "execution_count": 20,
   "id": "bb359f4b",
   "metadata": {},
   "outputs": [
    {
     "data": {
      "text/plain": [
       "109.0"
      ]
     },
     "execution_count": 20,
     "metadata": {},
     "output_type": "execute_result"
    }
   ],
   "source": [
    "tax_calculator(100, .09)"
   ]
  }
 ],
 "metadata": {
  "kernelspec": {
   "display_name": "Python [conda env:base] *",
   "language": "python",
   "name": "conda-base-py"
  },
  "language_info": {
   "codemirror_mode": {
    "name": "ipython",
    "version": 3
   },
   "file_extension": ".py",
   "mimetype": "text/x-python",
   "name": "python",
   "nbconvert_exporter": "python",
   "pygments_lexer": "ipython3",
   "version": "3.12.7"
  }
 },
 "nbformat": 4,
 "nbformat_minor": 5
}
